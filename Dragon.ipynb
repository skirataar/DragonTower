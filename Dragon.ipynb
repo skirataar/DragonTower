{
  "metadata": {
    "kernelspec": {
      "name": "python",
      "display_name": "Python (Pyodide)",
      "language": "python"
    },
    "language_info": {
      "codemirror_mode": {
        "name": "python",
        "version": 3
      },
      "file_extension": ".py",
      "mimetype": "text/x-python",
      "name": "python",
      "nbconvert_exporter": "python",
      "pygments_lexer": "ipython3",
      "version": "3.8"
    }
  },
  "nbformat_minor": 4,
  "nbformat": 4,
  "cells": [
    {
      "cell_type": "code",
      "source": "import random\nimport csv\n\n# Number of samples to generate\nnum_samples = 1000\n\n# Function to generate an array with three random numbers in the range 1 to 4\ndef generate_random_numbers():\n    return [random.randint(1, 4) for _ in range(3)]\n\n# Open a CSV file to write the data\nwith open('random_numbers.csv', mode='w', newline='') as file:\n    writer = csv.writer(file)\n    # Write the header\n    writer.writerow(['Number1', 'Number2', 'Number3'])\n    \n    # Generate and write the data\n    for _ in range(num_samples):\n        writer.writerow(generate_random_numbers())\n\nprint(\"CSV file 'random_numbers.csv' has been created with the random numbers.\")\n",
      "metadata": {
        "trusted": true
      },
      "outputs": [
        {
          "name": "stdout",
          "text": "CSV file 'random_numbers.csv' has been created with the random numbers.\n",
          "output_type": "stream"
        }
      ],
      "execution_count": 1
    },
    {
      "cell_type": "code",
      "source": "import pandas as pd\nfrom collections import Counter\n\n# Load the generated dataset\ndata = pd.read_csv('random_numbers.csv')\n\n# Function to determine the correct number\ndef determine_correct_number(row):\n    counts = Counter(row)\n    most_common = counts.most_common()\n    max_count = most_common[0][1]\n    candidates = [num for num, count in most_common if count == max_count]\n    return random.choice(candidates)\n\n# Apply the function to each row\ndata['CorrectNumber'] = data.apply(determine_correct_number, axis=1)\n\n# Save the labeled dataset\ndata.to_csv('labeled_data.csv', index=False)\nprint(\"CSV file 'labeled_data.csv' has been created with the labeled data.\")\n",
      "metadata": {
        "trusted": true
      },
      "outputs": [
        {
          "name": "stdout",
          "text": "CSV file 'labeled_data.csv' has been created with the labeled data.\n",
          "output_type": "stream"
        }
      ],
      "execution_count": 2
    },
    {
      "cell_type": "code",
      "source": "from sklearn.model_selection import train_test_split\nfrom sklearn.ensemble import RandomForestClassifier\nfrom sklearn.metrics import accuracy_score\n\n# Load the labeled dataset\ndata = pd.read_csv('labeled_data.csv')\n\n# Split the dataset into features and labels\nX = data[['Number1', 'Number2', 'Number3']]\ny = data['CorrectNumber']\n\n# Split the data into training and testing sets\nX_train, X_test, y_train, y_test = train_test_split(X, y, test_size=0.2, random_state=42)\n\n# Train a Random Forest classifier\nclf = RandomForestClassifier(n_estimators=100, random_state=42)\nclf.fit(X_train, y_train)\n\n# Make predictions on the test set\ny_pred = clf.predict(X_test)\n\n# Evaluate the model\naccuracy = accuracy_score(y_test, y_pred)\nprint(f\"Model Accuracy: {accuracy * 100:.2f}%\")\n",
      "metadata": {
        "trusted": true
      },
      "outputs": [
        {
          "name": "stdout",
          "text": "Model Accuracy: 69.50%\n",
          "output_type": "stream"
        }
      ],
      "execution_count": 3
    },
    {
      "cell_type": "code",
      "source": "# Example new set of numbers for each level\nnew_numbers = [\n    [1, 2, 2],\n    [3, 4, 4],\n    [1, 1, 3]\n]\n\n# Predict the correct numbers for each level\npredicted_correct_numbers = clf.predict(new_numbers)\nprint(f\"The predicted correct numbers for each level are: {predicted_correct_numbers}\")\n",
      "metadata": {
        "trusted": true
      },
      "outputs": [
        {
          "name": "stderr",
          "text": "/lib/python3.11/site-packages/sklearn/base.py:465: UserWarning: X does not have valid feature names, but RandomForestClassifier was fitted with feature names\n  warnings.warn(\n",
          "output_type": "stream"
        },
        {
          "name": "stdout",
          "text": "The predicted correct numbers for each level are: [2 4 1]\n",
          "output_type": "stream"
        }
      ],
      "execution_count": 5
    },
    {
      "cell_type": "code",
      "source": "",
      "metadata": {
        "trusted": true
      },
      "outputs": [],
      "execution_count": null
    }
  ]
}